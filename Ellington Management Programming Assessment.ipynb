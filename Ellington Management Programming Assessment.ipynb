{
 "cells": [
  {
   "cell_type": "markdown",
   "metadata": {},
   "source": [
    "Christopher J. Cavanaugh\n",
    "Responses for first three questions in Ellington Management Programming Assessment"
   ]
  },
  {
   "cell_type": "code",
   "execution_count": 66,
   "metadata": {},
   "outputs": [],
   "source": [
    "#1. Test if a given array of N integers is sorted. \n",
    "def isSorted(arr):\n",
    "    result1 = bool()\n",
    "    result2 = bool()\n",
    "    resultFinal = bool()\n",
    "    raa = arr[::-1]\n",
    "    if(all(arr[i] <= arr[i+1] for i in range(len(arr)-1))):\n",
    "        result1 = True\n",
    "    else: result1 = False\n",
    "    if(all(raa[i] <= raa[i+1] for i in range(len(arr)-1))):\n",
    "        result2 = True\n",
    "    else: result2 = False      \n",
    "    if result1==True or result2==True:\n",
    "        resultFinal = True\n",
    "    return resultFinal"
   ]
  },
  {
   "cell_type": "code",
   "execution_count": 146,
   "metadata": {},
   "outputs": [
    {
     "name": "stdout",
     "output_type": "stream",
     "text": [
      "True\n",
      "False\n",
      "True\n"
     ]
    }
   ],
   "source": [
    "trial1 = [1,10,20,100]\n",
    "trial2 = [10,20,1,100]\n",
    "trial3 = [100,20,10,1]\n",
    "print(isSorted(trial1))\n",
    "print(isSorted(trial2))\n",
    "print(isSorted(trial3))"
   ]
  },
  {
   "cell_type": "code",
   "execution_count": 136,
   "metadata": {},
   "outputs": [],
   "source": [
    "#2. Find the sum of elements of the contiguous subarray \n",
    "#that has the highest\n",
    "#(maximum) sum. Returns: highest sum, starting index, ending index. \n",
    "import numpy as np\n",
    "def highestSumSubarray(arr):\n",
    "    sumList = []\n",
    "    for i in range(len(arr)):\n",
    "        for j in range(len(arr)-i+1):\n",
    "            a = arr[i:j+i]\n",
    "            d = sum(a)\n",
    "            b = i\n",
    "            c = j+(i-1)\n",
    "            sumList.append([d,b,c])\n",
    "    indexList= []       \n",
    "    for k in range(len(sumList)):\n",
    "        indexList.append(sumList[k][0])\n",
    "    sumArr = np.asarray(indexList)\n",
    "    indexVal = np.argmax(sumArr)\n",
    "    return sumList[indexVal]"
   ]
  },
  {
   "cell_type": "code",
   "execution_count": 148,
   "metadata": {},
   "outputs": [
    {
     "name": "stdout",
     "output_type": "stream",
     "text": [
      "[11, 1, 4]\n",
      "[12, 5, 9]\n"
     ]
    }
   ],
   "source": [
    "test1 = [-1, 5, -3, 2, 7, -10]\n",
    "test2 = [-3, 6, -2, 1, -7, 4, -2, 4, -1, 7, -5]\n",
    "print(highestSumSubarray(test1))\n",
    "print(highestSumSubarray(test2))"
   ]
  },
  {
   "cell_type": "code",
   "execution_count": 139,
   "metadata": {},
   "outputs": [],
   "source": [
    "#Determine whether a given string is a palindrome.\n",
    "def isPalindrome(arr):\n",
    "    raa = arr[::-1]\n",
    "    if arr==raa:\n",
    "        return True\n",
    "    else: return False"
   ]
  },
  {
   "cell_type": "code",
   "execution_count": 150,
   "metadata": {},
   "outputs": [
    {
     "name": "stdout",
     "output_type": "stream",
     "text": [
      "False\n",
      "True\n"
     ]
    }
   ],
   "source": [
    "palinTest1 = 'ABCDA'\n",
    "palinTest2 = '12321'\n",
    "print(isPalindrome(palinTest1))\n",
    "print(isPalindrome(palinTest2))"
   ]
  },
  {
   "cell_type": "code",
   "execution_count": null,
   "metadata": {},
   "outputs": [],
   "source": []
  },
  {
   "cell_type": "code",
   "execution_count": null,
   "metadata": {},
   "outputs": [],
   "source": []
  }
 ],
 "metadata": {
  "kernelspec": {
   "display_name": "Python 3",
   "language": "python",
   "name": "python3"
  },
  "language_info": {
   "codemirror_mode": {
    "name": "ipython",
    "version": 3
   },
   "file_extension": ".py",
   "mimetype": "text/x-python",
   "name": "python",
   "nbconvert_exporter": "python",
   "pygments_lexer": "ipython3",
   "version": "3.7.1"
  }
 },
 "nbformat": 4,
 "nbformat_minor": 2
}
